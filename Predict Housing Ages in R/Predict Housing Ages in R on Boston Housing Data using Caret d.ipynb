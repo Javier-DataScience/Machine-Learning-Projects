{
 "cells": [
  {
   "cell_type": "markdown",
   "metadata": {},
   "source": [
    "# Predict Housing Ages in R on Boston Housing Data using Caret "
   ]
  },
  {
   "cell_type": "markdown",
   "metadata": {},
   "source": [
    "## Coursera Project"
   ]
  },
  {
   "cell_type": "code",
   "execution_count": 7,
   "metadata": {},
   "outputs": [],
   "source": [
    "#install.packages('neuralnet')\n",
    "#install.packages('caret')"
   ]
  },
  {
   "cell_type": "code",
   "execution_count": 9,
   "metadata": {},
   "outputs": [],
   "source": [
    "options(warn=-1)"
   ]
  },
  {
   "cell_type": "code",
   "execution_count": 10,
   "metadata": {
    "scrolled": true
   },
   "outputs": [],
   "source": [
    "library(neuralnet)\n",
    "library(caret)\n",
    "library(tidyverse)\n",
    "library(MASS)"
   ]
  },
  {
   "cell_type": "code",
   "execution_count": 19,
   "metadata": {},
   "outputs": [],
   "source": [
    "data(Boston)"
   ]
  },
  {
   "cell_type": "code",
   "execution_count": 20,
   "metadata": {},
   "outputs": [],
   "source": [
    "df <- Boston"
   ]
  },
  {
   "cell_type": "code",
   "execution_count": 23,
   "metadata": {
    "scrolled": true
   },
   "outputs": [
    {
     "name": "stdout",
     "output_type": "stream",
     "text": [
      "'data.frame':\t506 obs. of  14 variables:\n",
      " $ crim   : num  0.00632 0.02731 0.02729 0.03237 0.06905 ...\n",
      " $ zn     : num  18 0 0 0 0 0 12.5 12.5 12.5 12.5 ...\n",
      " $ indus  : num  2.31 7.07 7.07 2.18 2.18 2.18 7.87 7.87 7.87 7.87 ...\n",
      " $ chas   : int  0 0 0 0 0 0 0 0 0 0 ...\n",
      " $ nox    : num  0.538 0.469 0.469 0.458 0.458 0.458 0.524 0.524 0.524 0.524 ...\n",
      " $ rm     : num  6.58 6.42 7.18 7 7.15 ...\n",
      " $ age    : num  65.2 78.9 61.1 45.8 54.2 58.7 66.6 96.1 100 85.9 ...\n",
      " $ dis    : num  4.09 4.97 4.97 6.06 6.06 ...\n",
      " $ rad    : int  1 2 2 3 3 3 5 5 5 5 ...\n",
      " $ tax    : num  296 242 242 222 222 222 311 311 311 311 ...\n",
      " $ ptratio: num  15.3 17.8 17.8 18.7 18.7 18.7 15.2 15.2 15.2 15.2 ...\n",
      " $ black  : num  397 397 393 395 397 ...\n",
      " $ lstat  : num  4.98 9.14 4.03 2.94 5.33 ...\n",
      " $ medv   : num  24 21.6 34.7 33.4 36.2 28.7 22.9 27.1 16.5 18.9 ...\n"
     ]
    }
   ],
   "source": [
    "str(df)"
   ]
  },
  {
   "cell_type": "code",
   "execution_count": 24,
   "metadata": {},
   "outputs": [],
   "source": [
    "?Boston"
   ]
  },
  {
   "cell_type": "code",
   "execution_count": 26,
   "metadata": {
    "scrolled": true
   },
   "outputs": [
    {
     "data": {
      "image/png": "[encoded data removed]",
      "text/plain": [
       "Plot with title \"Histogram of df$age\""
      ]
     },
     "metadata": {
      "image/png": {
       "height": 420,
       "width": 420
      },
      "text/plain": {
       "height": 420,
       "width": 420
      }
     },
     "output_type": "display_data"
    }
   ],
   "source": [
    "hist(df$age, col='blue')"
   ]
  },
  {
   "cell_type": "code",
   "execution_count": 27,
   "metadata": {
    "scrolled": true
   },
   "outputs": [
    {
     "data": {
      "text/plain": [
       "      crim                zn             indus            chas        \n",
       " Min.   : 0.00632   Min.   :  0.00   Min.   : 0.46   Min.   :0.00000  \n",
       " 1st Qu.: 0.08204   1st Qu.:  0.00   1st Qu.: 5.19   1st Qu.:0.00000  \n",
       " Median : 0.25651   Median :  0.00   Median : 9.69   Median :0.00000  \n",
       " Mean   : 3.61352   Mean   : 11.36   Mean   :11.14   Mean   :0.06917  \n",
       " 3rd Qu.: 3.67708   3rd Qu.: 12.50   3rd Qu.:18.10   3rd Qu.:0.00000  \n",
       " Max.   :88.97620   Max.   :100.00   Max.   :27.74   Max.   :1.00000  \n",
       "      nox               rm             age              dis        \n",
       " Min.   :0.3850   Min.   :3.561   Min.   :  2.90   Min.   : 1.130  \n",
       " 1st Qu.:0.4490   1st Qu.:5.886   1st Qu.: 45.02   1st Qu.: 2.100  \n",
       " Median :0.5380   Median :6.208   Median : 77.50   Median : 3.207  \n",
       " Mean   :0.5547   Mean   :6.285   Mean   : 68.57   Mean   : 3.795  \n",
       " 3rd Qu.:0.6240   3rd Qu.:6.623   3rd Qu.: 94.08   3rd Qu.: 5.188  \n",
       " Max.   :0.8710   Max.   :8.780   Max.   :100.00   Max.   :12.127  \n",
       "      rad              tax           ptratio          black       \n",
       " Min.   : 1.000   Min.   :187.0   Min.   :12.60   Min.   :  0.32  \n",
       " 1st Qu.: 4.000   1st Qu.:279.0   1st Qu.:17.40   1st Qu.:375.38  \n",
       " Median : 5.000   Median :330.0   Median :19.05   Median :391.44  \n",
       " Mean   : 9.549   Mean   :408.2   Mean   :18.46   Mean   :356.67  \n",
       " 3rd Qu.:24.000   3rd Qu.:666.0   3rd Qu.:20.20   3rd Qu.:396.23  \n",
       " Max.   :24.000   Max.   :711.0   Max.   :22.00   Max.   :396.90  \n",
       "     lstat            medv      \n",
       " Min.   : 1.73   Min.   : 5.00  \n",
       " 1st Qu.: 6.95   1st Qu.:17.02  \n",
       " Median :11.36   Median :21.20  \n",
       " Mean   :12.65   Mean   :22.53  \n",
       " 3rd Qu.:16.95   3rd Qu.:25.00  \n",
       " Max.   :37.97   Max.   :50.00  "
      ]
     },
     "metadata": {},
     "output_type": "display_data"
    }
   ],
   "source": [
    "summary(df)"
   ]
  },
  {
   "cell_type": "code",
   "execution_count": 31,
   "metadata": {},
   "outputs": [],
   "source": [
    "rows <- sample(1:nrow(df),nrow(df)*0.8, replace=F)"
   ]
  },
  {
   "cell_type": "code",
   "execution_count": 32,
   "metadata": {},
   "outputs": [
    {
     "data": {
      "text/html": [
       "<style>\n",
       ".list-inline {list-style: none; margin:0; padding: 0}\n",
       ".list-inline>li {display: inline-block}\n",
       ".list-inline>li:not(:last-child)::after {content: \"\\00b7\"; padding: 0 .5ex}\n",
       "</style>\n",
       "<ol class=list-inline><li>22</li><li>173</li><li>455</li><li>316</li><li>322</li><li>200</li></ol>\n"
      ],
      "text/latex": [
       "\\begin{enumerate*}\n",
       "\\item 22\n",
       "\\item 173\n",
       "\\item 455\n",
       "\\item 316\n",
       "\\item 322\n",
       "\\item 200\n",
       "\\end{enumerate*}\n"
      ],
      "text/markdown": [
       "1. 22\n",
       "2. 173\n",
       "3. 455\n",
       "4. 316\n",
       "5. 322\n",
       "6. 200\n",
       "\n",
       "\n"
      ],
      "text/plain": [
       "[1]  22 173 455 316 322 200"
      ]
     },
     "metadata": {},
     "output_type": "display_data"
    }
   ],
   "source": [
    "head(rows)"
   ]
  },
  {
   "cell_type": "code",
   "execution_count": 34,
   "metadata": {},
   "outputs": [],
   "source": [
    "train_base <- df[rows,]\n",
    "test_base <- df[-rows,]"
   ]
  },
  {
   "cell_type": "code",
   "execution_count": 35,
   "metadata": {},
   "outputs": [
    {
     "data": {
      "text/html": [
       "<style>\n",
       ".list-inline {list-style: none; margin:0; padding: 0}\n",
       ".list-inline>li {display: inline-block}\n",
       ".list-inline>li:not(:last-child)::after {content: \"\\00b7\"; padding: 0 .5ex}\n",
       "</style>\n",
       "<ol class=list-inline><li>404</li><li>14</li></ol>\n"
      ],
      "text/latex": [
       "\\begin{enumerate*}\n",
       "\\item 404\n",
       "\\item 14\n",
       "\\end{enumerate*}\n"
      ],
      "text/markdown": [
       "1. 404\n",
       "2. 14\n",
       "\n",
       "\n"
      ],
      "text/plain": [
       "[1] 404  14"
      ]
     },
     "metadata": {},
     "output_type": "display_data"
    },
    {
     "data": {
      "text/html": [
       "<style>\n",
       ".list-inline {list-style: none; margin:0; padding: 0}\n",
       ".list-inline>li {display: inline-block}\n",
       ".list-inline>li:not(:last-child)::after {content: \"\\00b7\"; padding: 0 .5ex}\n",
       "</style>\n",
       "<ol class=list-inline><li>102</li><li>14</li></ol>\n"
      ],
      "text/latex": [
       "\\begin{enumerate*}\n",
       "\\item 102\n",
       "\\item 14\n",
       "\\end{enumerate*}\n"
      ],
      "text/markdown": [
       "1. 102\n",
       "2. 14\n",
       "\n",
       "\n"
      ],
      "text/plain": [
       "[1] 102  14"
      ]
     },
     "metadata": {},
     "output_type": "display_data"
    }
   ],
   "source": [
    "dim(train_base)\n",
    "dim(test_base)"
   ]
  },
  {
   "cell_type": "code",
   "execution_count": 36,
   "metadata": {},
   "outputs": [],
   "source": [
    "# caret"
   ]
  },
  {
   "cell_type": "code",
   "execution_count": 39,
   "metadata": {},
   "outputs": [],
   "source": [
    "rows2 <- createDataPartition(df$age,times=1,p=0.8,list=F)\n",
    "train<-df[rows2,]\n",
    "test<-df[-rows2,]"
   ]
  },
  {
   "cell_type": "code",
   "execution_count": 41,
   "metadata": {},
   "outputs": [
    {
     "data": {
      "text/html": [
       "<style>\n",
       ".list-inline {list-style: none; margin:0; padding: 0}\n",
       ".list-inline>li {display: inline-block}\n",
       ".list-inline>li:not(:last-child)::after {content: \"\\00b7\"; padding: 0 .5ex}\n",
       "</style>\n",
       "<ol class=list-inline><li>406</li><li>14</li></ol>\n"
      ],
      "text/latex": [
       "\\begin{enumerate*}\n",
       "\\item 406\n",
       "\\item 14\n",
       "\\end{enumerate*}\n"
      ],
      "text/markdown": [
       "1. 406\n",
       "2. 14\n",
       "\n",
       "\n"
      ],
      "text/plain": [
       "[1] 406  14"
      ]
     },
     "metadata": {},
     "output_type": "display_data"
    },
    {
     "data": {
      "text/html": [
       "<style>\n",
       ".list-inline {list-style: none; margin:0; padding: 0}\n",
       ".list-inline>li {display: inline-block}\n",
       ".list-inline>li:not(:last-child)::after {content: \"\\00b7\"; padding: 0 .5ex}\n",
       "</style>\n",
       "<ol class=list-inline><li>100</li><li>14</li></ol>\n"
      ],
      "text/latex": [
       "\\begin{enumerate*}\n",
       "\\item 100\n",
       "\\item 14\n",
       "\\end{enumerate*}\n"
      ],
      "text/markdown": [
       "1. 100\n",
       "2. 14\n",
       "\n",
       "\n"
      ],
      "text/plain": [
       "[1] 100  14"
      ]
     },
     "metadata": {},
     "output_type": "display_data"
    }
   ],
   "source": [
    "dim(train)\n",
    "dim(test)"
   ]
  },
  {
   "cell_type": "code",
   "execution_count": 42,
   "metadata": {},
   "outputs": [],
   "source": [
    "model_lm <- train(age~.,data=train,method='lm',trControl=trainControl(method='repeatedcv',number=2,repeats=2))"
   ]
  },
  {
   "cell_type": "code",
   "execution_count": 43,
   "metadata": {
    "scrolled": true
   },
   "outputs": [
    {
     "data": {
      "text/plain": [
       "Linear Regression \n",
       "\n",
       "406 samples\n",
       " 13 predictor\n",
       "\n",
       "No pre-processing\n",
       "Resampling: Cross-Validated (2 fold, repeated 2 times) \n",
       "Summary of sample sizes: 204, 202, 203, 203 \n",
       "Resampling results:\n",
       "\n",
       "  RMSE      Rsquared  MAE     \n",
       "  16.89936  0.651756  12.86466\n",
       "\n",
       "Tuning parameter 'intercept' was held constant at a value of TRUE"
      ]
     },
     "metadata": {},
     "output_type": "display_data"
    }
   ],
   "source": [
    "model_lm"
   ]
  },
  {
   "cell_type": "code",
   "execution_count": 48,
   "metadata": {},
   "outputs": [],
   "source": [
    "#install.packages('ranger')\n",
    "library(ranger)"
   ]
  },
  {
   "cell_type": "code",
   "execution_count": 49,
   "metadata": {},
   "outputs": [],
   "source": [
    "model_rf <- train(age~.,data=train,method='ranger',trControl=trainControl(method='repeatedcv',number=2,repeats=2))"
   ]
  },
  {
   "cell_type": "code",
   "execution_count": 50,
   "metadata": {
    "scrolled": true
   },
   "outputs": [
    {
     "data": {
      "text/plain": [
       "Random Forest \n",
       "\n",
       "406 samples\n",
       " 13 predictor\n",
       "\n",
       "No pre-processing\n",
       "Resampling: Cross-Validated (2 fold, repeated 2 times) \n",
       "Summary of sample sizes: 204, 202, 203, 203 \n",
       "Resampling results across tuning parameters:\n",
       "\n",
       "  mtry  splitrule   RMSE      Rsquared   MAE      \n",
       "   2    variance    13.71414  0.7723251  10.090974\n",
       "   2    extratrees  14.45558  0.7520472  10.814396\n",
       "   7    variance    13.14776  0.7879223   9.496382\n",
       "   7    extratrees  13.52195  0.7777233   9.889479\n",
       "  13    variance    13.17226  0.7865871   9.478342\n",
       "  13    extratrees  13.29541  0.7846794   9.699381\n",
       "\n",
       "Tuning parameter 'min.node.size' was held constant at a value of 5\n",
       "RMSE was used to select the optimal model using the smallest value.\n",
       "The final values used for the model were mtry = 7, splitrule = variance\n",
       " and min.node.size = 5."
      ]
     },
     "metadata": {},
     "output_type": "display_data"
    }
   ],
   "source": [
    "model_rf"
   ]
  },
  {
   "cell_type": "code",
   "execution_count": 54,
   "metadata": {},
   "outputs": [],
   "source": [
    "#install.packages('gbm')\n",
    "library(gbm)"
   ]
  },
  {
   "cell_type": "code",
   "execution_count": 55,
   "metadata": {
    "scrolled": true
   },
   "outputs": [
    {
     "name": "stdout",
     "output_type": "stream",
     "text": [
      "Iter   TrainDeviance   ValidDeviance   StepSize   Improve\n",
      "     1      702.3994             nan     0.1000   99.5823\n",
      "     2      628.7373             nan     0.1000   75.5163\n",
      "     3      570.6000             nan     0.1000   57.4393\n",
      "     4      510.9218             nan     0.1000   61.6044\n",
      "     5      458.4898             nan     0.1000   44.0174\n",
      "     6      419.2204             nan     0.1000   32.0933\n",
      "     7      383.8891             nan     0.1000   30.5604\n",
      "     8      355.5800             nan     0.1000   31.0541\n",
      "     9      334.7928             nan     0.1000   14.2916\n",
      "    10      313.9371             nan     0.1000   16.2748\n",
      "    20      210.7389             nan     0.1000    4.0444\n",
      "    40      167.9393             nan     0.1000    0.8674\n",
      "    60      152.6703             nan     0.1000   -0.6131\n",
      "    80      142.6549             nan     0.1000   -2.7427\n",
      "   100      135.9026             nan     0.1000   -0.7074\n",
      "   120      129.7715             nan     0.1000   -0.8950\n",
      "   140      124.5252             nan     0.1000   -1.0870\n",
      "   150      121.9864             nan     0.1000   -0.2738\n",
      "\n",
      "Iter   TrainDeviance   ValidDeviance   StepSize   Improve\n",
      "     1      689.9366             nan     0.1000   95.3247\n",
      "     2      611.0108             nan     0.1000   67.4395\n",
      "     3      542.5348             nan     0.1000   74.4630\n",
      "     4      478.1290             nan     0.1000   46.1611\n",
      "     5      424.6342             nan     0.1000   47.5009\n",
      "     6      383.9337             nan     0.1000   42.6204\n",
      "     7      347.3881             nan     0.1000   33.6129\n",
      "     8      315.8712             nan     0.1000   21.6630\n",
      "     9      291.2267             nan     0.1000   19.9307\n",
      "    10      270.7599             nan     0.1000   16.6427\n",
      "    20      167.9027             nan     0.1000    3.9372\n",
      "    40      120.9285             nan     0.1000    0.2437\n",
      "    60      100.7106             nan     0.1000   -1.0159\n",
      "    80       86.7659             nan     0.1000   -1.2497\n",
      "   100       78.1200             nan     0.1000   -0.6499\n",
      "   120       68.6203             nan     0.1000   -1.0101\n",
      "   140       63.2152             nan     0.1000   -1.3956\n",
      "   150       59.4957             nan     0.1000   -1.0085\n",
      "\n",
      "Iter   TrainDeviance   ValidDeviance   StepSize   Improve\n",
      "     1      688.2043             nan     0.1000  103.5096\n",
      "     2      600.4699             nan     0.1000   88.8498\n",
      "     3      520.1092             nan     0.1000   75.3410\n",
      "     4      456.7082             nan     0.1000   62.3137\n",
      "     5      405.6494             nan     0.1000   55.7714\n",
      "     6      362.3250             nan     0.1000   40.4413\n",
      "     7      326.6242             nan     0.1000   20.2295\n",
      "     8      297.3770             nan     0.1000   19.0264\n",
      "     9      271.5595             nan     0.1000   25.0334\n",
      "    10      248.2019             nan     0.1000   18.6283\n",
      "    20      143.3667             nan     0.1000    0.5050\n",
      "    40       94.5065             nan     0.1000    0.4240\n",
      "    60       73.5390             nan     0.1000    0.2674\n",
      "    80       61.0883             nan     0.1000   -1.2715\n",
      "   100       51.7403             nan     0.1000   -0.5288\n",
      "   120       44.8833             nan     0.1000   -0.2518\n",
      "   140       38.8691             nan     0.1000   -0.4459\n",
      "   150       36.5858             nan     0.1000   -0.6745\n",
      "\n",
      "Iter   TrainDeviance   ValidDeviance   StepSize   Improve\n",
      "     1      743.6716             nan     0.1000   53.7794\n",
      "     2      677.6894             nan     0.1000   64.1465\n",
      "     3      627.3829             nan     0.1000   44.4862\n",
      "     4      575.7056             nan     0.1000   46.1339\n",
      "     5      519.0880             nan     0.1000   40.0170\n",
      "     6      475.9534             nan     0.1000   24.8587\n",
      "     7      438.9743             nan     0.1000   31.9877\n",
      "     8      408.7457             nan     0.1000   22.2904\n",
      "     9      385.8896             nan     0.1000   21.1285\n",
      "    10      369.2183             nan     0.1000   14.1542\n",
      "    20      261.7975             nan     0.1000    2.4108\n",
      "    40      213.6625             nan     0.1000   -0.5484\n",
      "    60      191.0530             nan     0.1000    0.3357\n",
      "    80      176.7965             nan     0.1000   -0.6445\n",
      "   100      161.6406             nan     0.1000   -0.4377\n",
      "   120      152.6940             nan     0.1000    0.4558\n",
      "   140      144.4826             nan     0.1000   -0.6147\n",
      "   150      141.3973             nan     0.1000   -0.1711\n",
      "\n",
      "Iter   TrainDeviance   ValidDeviance   StepSize   Improve\n",
      "     1      716.9432             nan     0.1000   97.6372\n",
      "     2      642.7318             nan     0.1000   73.9248\n",
      "     3      578.1658             nan     0.1000   64.8825\n",
      "     4      518.1031             nan     0.1000   54.9127\n",
      "     5      473.6951             nan     0.1000   44.5552\n",
      "     6      432.0963             nan     0.1000   36.3543\n",
      "     7      396.9505             nan     0.1000   32.5121\n",
      "     8      363.2775             nan     0.1000   29.2384\n",
      "     9      341.4764             nan     0.1000   22.1805\n",
      "    10      313.8968             nan     0.1000   19.2887\n",
      "    20      203.0705             nan     0.1000    2.0619\n",
      "    40      144.4398             nan     0.1000   -2.1364\n",
      "    60      115.2426             nan     0.1000   -1.2471\n",
      "    80       96.4591             nan     0.1000   -1.3805\n",
      "   100       86.6999             nan     0.1000   -0.4243\n",
      "   120       78.9392             nan     0.1000   -0.5934\n",
      "   140       71.4966             nan     0.1000   -1.0741\n",
      "   150       68.5795             nan     0.1000   -1.0450\n",
      "\n",
      "Iter   TrainDeviance   ValidDeviance   StepSize   Improve\n",
      "     1      709.4418             nan     0.1000   99.8788\n",
      "     2      619.8073             nan     0.1000   85.3378\n",
      "     3      547.5536             nan     0.1000   63.9876\n",
      "     4      480.8418             nan     0.1000   64.9122\n",
      "     5      434.5527             nan     0.1000   42.5409\n",
      "     6      399.8665             nan     0.1000   31.7169\n",
      "     7      357.4960             nan     0.1000   38.1879\n",
      "     8      326.7864             nan     0.1000   25.7757\n",
      "     9      300.9681             nan     0.1000   19.9402\n",
      "    10      278.2160             nan     0.1000   18.5246\n",
      "    20      172.7112             nan     0.1000    4.4767\n",
      "    40      117.0674             nan     0.1000   -0.0090\n",
      "    60       90.8628             nan     0.1000   -1.8492\n",
      "    80       76.6335             nan     0.1000   -1.4179\n",
      "   100       63.8179             nan     0.1000   -0.8993\n",
      "   120       54.0121             nan     0.1000   -0.2778\n",
      "   140       46.5798             nan     0.1000   -1.0354\n",
      "   150       44.4137             nan     0.1000   -0.7862\n",
      "\n",
      "Iter   TrainDeviance   ValidDeviance   StepSize   Improve\n",
      "     1      654.7715             nan     0.1000   72.4231\n",
      "     2      584.1761             nan     0.1000   62.4821\n",
      "     3      535.2518             nan     0.1000   49.7117\n",
      "     4      484.6925             nan     0.1000   49.4226\n",
      "     5      440.7826             nan     0.1000   36.7672\n",
      "     6      410.5257             nan     0.1000   28.5112\n",
      "     7      381.0813             nan     0.1000   30.3653\n",
      "     8      355.5454             nan     0.1000   23.8165\n",
      "     9      331.3706             nan     0.1000   18.6738\n",
      "    10      314.3295             nan     0.1000   14.4655\n",
      "    20      210.5332             nan     0.1000    2.0406\n",
      "    40      166.3968             nan     0.1000   -0.1609\n",
      "    60      147.3566             nan     0.1000    0.0258\n",
      "    80      134.6472             nan     0.1000    0.0080\n",
      "   100      126.8441             nan     0.1000   -1.0530\n",
      "   120      120.2676             nan     0.1000   -0.3448\n",
      "   140      113.7676             nan     0.1000   -0.5876\n",
      "   150      111.7461             nan     0.1000   -1.0304\n",
      "\n",
      "Iter   TrainDeviance   ValidDeviance   StepSize   Improve\n",
      "     1      635.8194             nan     0.1000   85.1987\n",
      "     2      565.9842             nan     0.1000   68.9222\n",
      "     3      514.1953             nan     0.1000   46.4399\n",
      "     4      458.9046             nan     0.1000   50.2699\n",
      "     5      417.8925             nan     0.1000   44.9484\n",
      "     6      375.8035             nan     0.1000   40.6896\n",
      "     7      346.7772             nan     0.1000   28.2116\n",
      "     8      314.1583             nan     0.1000   31.7118\n",
      "     9      287.2566             nan     0.1000   22.8494\n",
      "    10      264.9220             nan     0.1000   13.9939\n",
      "    20      161.6036             nan     0.1000    2.5729\n",
      "    40      116.0468             nan     0.1000   -1.5597\n",
      "    60       97.4427             nan     0.1000   -0.3778\n",
      "    80       83.7770             nan     0.1000   -0.0541\n",
      "   100       76.3374             nan     0.1000   -1.0533\n",
      "   120       69.8582             nan     0.1000   -1.9503\n",
      "   140       63.7405             nan     0.1000   -1.1776\n",
      "   150       61.0578             nan     0.1000   -0.4234\n",
      "\n",
      "Iter   TrainDeviance   ValidDeviance   StepSize   Improve\n",
      "     1      627.8622             nan     0.1000   96.4449\n",
      "     2      550.1485             nan     0.1000   80.9107\n",
      "     3      481.3081             nan     0.1000   59.0672\n",
      "     4      430.4078             nan     0.1000   42.1533\n",
      "     5      383.4154             nan     0.1000   38.0003\n",
      "     6      346.3000             nan     0.1000   39.2162\n",
      "     7      315.4603             nan     0.1000   27.9159\n",
      "     8      286.8818             nan     0.1000   24.7172\n",
      "     9      261.9507             nan     0.1000   21.0805\n",
      "    10      240.9562             nan     0.1000   18.6669\n",
      "    20      143.4888             nan     0.1000    0.5621\n",
      "    40       90.1837             nan     0.1000   -0.9309\n",
      "    60       71.6029             nan     0.1000   -0.8663\n",
      "    80       62.0533             nan     0.1000   -1.2709\n",
      "   100       52.4308             nan     0.1000   -0.9931\n",
      "   120       45.5724             nan     0.1000   -0.5579\n",
      "   140       41.1212             nan     0.1000   -0.3233\n",
      "   150       38.5661             nan     0.1000   -0.4315\n",
      "\n",
      "Iter   TrainDeviance   ValidDeviance   StepSize   Improve\n",
      "     1      784.1976             nan     0.1000   89.6239\n",
      "     2      700.0191             nan     0.1000   72.5993\n",
      "     3      631.6644             nan     0.1000   63.8958\n",
      "     4      571.7402             nan     0.1000   60.2958\n",
      "     5      520.5506             nan     0.1000   45.1786\n",
      "     6      486.0511             nan     0.1000   29.8841\n",
      "     7      449.7124             nan     0.1000   32.5431\n",
      "     8      414.2365             nan     0.1000   28.2259\n",
      "     9      390.9757             nan     0.1000   21.4757\n",
      "    10      369.5426             nan     0.1000   23.4691\n",
      "    20      249.0658             nan     0.1000    5.9637\n",
      "    40      203.1278             nan     0.1000   -2.0781\n",
      "    60      184.5362             nan     0.1000   -0.9815\n",
      "    80      172.3231             nan     0.1000   -1.4343\n",
      "   100      163.8498             nan     0.1000   -0.8670\n",
      "   120      156.4628             nan     0.1000   -1.7060\n",
      "   140      149.2505             nan     0.1000   -2.1736\n",
      "   150      144.9354             nan     0.1000   -1.6477\n",
      "\n",
      "Iter   TrainDeviance   ValidDeviance   StepSize   Improve\n",
      "     1      758.0544             nan     0.1000  108.0606\n",
      "     2      669.3029             nan     0.1000   73.4618\n",
      "     3      596.7552             nan     0.1000   67.5621\n",
      "     4      530.1312             nan     0.1000   56.1729\n",
      "     5      471.8905             nan     0.1000   54.7765\n",
      "     6      425.0489             nan     0.1000   43.0420\n",
      "     7      375.8186             nan     0.1000   45.7528\n",
      "     8      344.0630             nan     0.1000   24.6413\n",
      "     9      318.2218             nan     0.1000   20.2652\n",
      "    10      299.2958             nan     0.1000   17.0232\n",
      "    20      198.9947             nan     0.1000   -1.1906\n",
      "    40      150.0877             nan     0.1000   -0.7913\n",
      "    60      125.9916             nan     0.1000    0.0975\n",
      "    80      108.7084             nan     0.1000   -0.9981\n",
      "   100       94.5373             nan     0.1000   -0.7524\n",
      "   120       85.8265             nan     0.1000   -1.7195\n",
      "   140       77.2063             nan     0.1000   -0.4758\n",
      "   150       73.8184             nan     0.1000   -0.2891\n",
      "\n",
      "Iter   TrainDeviance   ValidDeviance   StepSize   Improve\n",
      "     1      755.5727             nan     0.1000  111.8928\n",
      "     2      654.2028             nan     0.1000   75.4753\n",
      "     3      569.4779             nan     0.1000   91.4074\n",
      "     4      510.5851             nan     0.1000   54.9630\n",
      "     5      450.2228             nan     0.1000   54.3858\n",
      "     6      406.8318             nan     0.1000   44.4646\n",
      "     7      367.4623             nan     0.1000   39.7090\n",
      "     8      331.2584             nan     0.1000   29.4267\n",
      "     9      302.8644             nan     0.1000   26.6436\n",
      "    10      279.2734             nan     0.1000   18.6294\n",
      "    20      173.3294             nan     0.1000    1.7809\n",
      "    40      116.1132             nan     0.1000   -2.0416\n",
      "    60       91.6667             nan     0.1000   -2.5560\n",
      "    80       75.2669             nan     0.1000   -0.5849\n",
      "   100       64.9944             nan     0.1000   -1.1765\n",
      "   120       55.3436             nan     0.1000   -0.6624\n",
      "   140       48.5920             nan     0.1000   -0.0886\n",
      "   150       45.4389             nan     0.1000   -1.0465\n",
      "\n",
      "Iter   TrainDeviance   ValidDeviance   StepSize   Improve\n",
      "     1      697.9187             nan     0.1000   91.7046\n",
      "     2      614.2965             nan     0.1000   85.7104\n",
      "     3      537.6524             nan     0.1000   63.0615\n",
      "     4      478.9833             nan     0.1000   51.6386\n",
      "     5      428.9984             nan     0.1000   47.9554\n",
      "     6      388.2315             nan     0.1000   39.6512\n",
      "     7      350.8780             nan     0.1000   36.2104\n",
      "     8      318.5140             nan     0.1000   30.2449\n",
      "     9      293.8947             nan     0.1000   25.1542\n",
      "    10      272.8035             nan     0.1000   20.5755\n",
      "    20      174.7050             nan     0.1000    2.1896\n",
      "    40      125.3688             nan     0.1000   -1.1544\n",
      "    60      104.5770             nan     0.1000   -0.2861\n",
      "    80       91.1839             nan     0.1000   -0.7844\n",
      "   100       82.0673             nan     0.1000    0.0918\n",
      "\n"
     ]
    }
   ],
   "source": [
    "model_gbm <- train(age~.,data=train,method='gbm',trControl=trainControl(method='repeatedcv',number=2,repeats=2))"
   ]
  },
  {
   "cell_type": "code",
   "execution_count": 56,
   "metadata": {},
   "outputs": [],
   "source": [
    "sample <- resamples(list(Linear=model_lm,Forest=model_rf,GBM=model_gbm))"
   ]
  },
  {
   "cell_type": "code",
   "execution_count": 57,
   "metadata": {
    "scrolled": true
   },
   "outputs": [
    {
     "data": {
      "image/png": "[encoded data removed]",
      "text/plain": [
       "plot without title"
      ]
     },
     "metadata": {
      "image/png": {
       "height": 420,
       "width": 420
      },
      "text/plain": {
       "height": 420,
       "width": 420
      }
     },
     "output_type": "display_data"
    }
   ],
   "source": [
    "bwplot(sample)"
   ]
  },
  {
   "cell_type": "code",
   "execution_count": 58,
   "metadata": {},
   "outputs": [
    {
     "data": {
      "image/png": "[encoded data removed]",
      "text/plain": [
       "plot without title"
      ]
     },
     "metadata": {
      "image/png": {
       "height": 420,
       "width": 420
      },
      "text/plain": {
       "height": 420,
       "width": 420
      }
     },
     "output_type": "display_data"
    }
   ],
   "source": [
    "dotplot(sample)"
   ]
  },
  {
   "cell_type": "code",
   "execution_count": 59,
   "metadata": {},
   "outputs": [
    {
     "data": {
      "text/plain": [
       "\n",
       "Call:\n",
       "summary.resamples(object = sample)\n",
       "\n",
       "Models: Linear, Forest, GBM \n",
       "Number of resamples: 4 \n",
       "\n",
       "MAE \n",
       "            Min.   1st Qu.    Median      Mean   3rd Qu.      Max. NA's\n",
       "Linear 12.455119 12.462471 12.478317 12.864663 12.880510 14.046900    0\n",
       "Forest  9.208884  9.418808  9.514320  9.496382  9.591894  9.748002    0\n",
       "GBM     9.581952  9.612480  9.795457  9.841187 10.024165 10.191880    0\n",
       "\n",
       "RMSE \n",
       "           Min.  1st Qu.   Median     Mean  3rd Qu.     Max. NA's\n",
       "Linear 15.77184 16.36735 16.71480 16.89936 17.24680 18.39601    0\n",
       "Forest 12.44780 12.78653 13.16547 13.14776 13.52670 13.81232    0\n",
       "GBM    13.35729 13.40723 13.57551 13.66504 13.83332 14.15184    0\n",
       "\n",
       "Rsquared \n",
       "            Min.   1st Qu.    Median      Mean   3rd Qu.      Max. NA's\n",
       "Linear 0.6070397 0.6429432 0.6550195 0.6517560 0.6638323 0.6899451    0\n",
       "Forest 0.7554518 0.7699914 0.7895861 0.7879223 0.8075170 0.8170654    0\n",
       "GBM    0.7612077 0.7682767 0.7717465 0.7697697 0.7732396 0.7743783    0\n"
      ]
     },
     "metadata": {},
     "output_type": "display_data"
    }
   ],
   "source": [
    "summary(sample)"
   ]
  },
  {
   "cell_type": "code",
   "execution_count": null,
   "metadata": {},
   "outputs": [],
   "source": []
  },
  {
   "cell_type": "code",
   "execution_count": null,
   "metadata": {},
   "outputs": [],
   "source": []
  },
  {
   "cell_type": "code",
   "execution_count": null,
   "metadata": {},
   "outputs": [],
   "source": []
  },
  {
   "cell_type": "code",
   "execution_count": null,
   "metadata": {},
   "outputs": [],
   "source": []
  },
  {
   "cell_type": "code",
   "execution_count": null,
   "metadata": {},
   "outputs": [],
   "source": []
  },
  {
   "cell_type": "code",
   "execution_count": null,
   "metadata": {},
   "outputs": [],
   "source": []
  },
  {
   "cell_type": "code",
   "execution_count": null,
   "metadata": {},
   "outputs": [],
   "source": []
  },
  {
   "cell_type": "code",
   "execution_count": null,
   "metadata": {},
   "outputs": [],
   "source": []
  }
 ],
 "metadata": {
  "kernelspec": {
   "display_name": "R",
   "language": "R",
   "name": "ir"
  },
  "language_info": {
   "codemirror_mode": "r",
   "file_extension": ".r",
   "mimetype": "text/x-r-source",
   "name": "R",
   "pygments_lexer": "r",
   "version": "3.6.1"
  }
 },
 "nbformat": 4,
 "nbformat_minor": 2
}
