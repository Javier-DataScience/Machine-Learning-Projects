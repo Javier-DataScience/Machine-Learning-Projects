{
 "cells": [
  {
   "cell_type": "markdown",
   "metadata": {},
   "source": [
    "# Basic Artificial Neural Networks in Python"
   ]
  },
  {
   "cell_type": "markdown",
   "metadata": {},
   "source": [
    "# COURSERA"
   ]
  },
  {
   "cell_type": "code",
   "execution_count": 32,
   "metadata": {},
   "outputs": [],
   "source": [
    "from sklearn import datasets\n",
    "import numpy as np\n",
    "import matplotlib.pyplot as plt\n",
    "import matplotlib\n",
    "%matplotlib inline"
   ]
  },
  {
   "cell_type": "markdown",
   "metadata": {},
   "source": [
    "# Generating a Sample Dataset"
   ]
  },
  {
   "cell_type": "code",
   "execution_count": 50,
   "metadata": {},
   "outputs": [],
   "source": [
    "np.random.seed(0)"
   ]
  },
  {
   "cell_type": "code",
   "execution_count": 51,
   "metadata": {},
   "outputs": [],
   "source": [
    "feature_set,labels = datasets.make_moons(100,noise=0.1)"
   ]
  },
  {
   "cell_type": "code",
   "execution_count": 52,
   "metadata": {},
   "outputs": [
    {
     "data": {
      "text/plain": [
       "(100, 2)"
      ]
     },
     "execution_count": 52,
     "metadata": {},
     "output_type": "execute_result"
    }
   ],
   "source": [
    "feature_set.shape"
   ]
  },
  {
   "cell_type": "code",
   "execution_count": 53,
   "metadata": {},
   "outputs": [
    {
     "data": {
      "text/plain": [
       "(100,)"
      ]
     },
     "execution_count": 53,
     "metadata": {},
     "output_type": "execute_result"
    }
   ],
   "source": [
    "labels.shape"
   ]
  },
  {
   "cell_type": "code",
   "execution_count": 54,
   "metadata": {},
   "outputs": [
    {
     "data": {
      "text/plain": [
       "array([[-0.05348369,  0.99258199],\n",
       "       [ 1.81989987, -0.17559999],\n",
       "       [ 0.95535658,  0.05999942],\n",
       "       [ 0.01558147,  0.11081703],\n",
       "       [ 0.96454939, -0.51276464]])"
      ]
     },
     "execution_count": 54,
     "metadata": {},
     "output_type": "execute_result"
    }
   ],
   "source": [
    "feature_set[:5]"
   ]
  },
  {
   "cell_type": "code",
   "execution_count": 55,
   "metadata": {
    "scrolled": false
   },
   "outputs": [
    {
     "data": {
      "image/png": "[encoded data removed]",
      "text/plain": [
       "<Figure size 720x504 with 1 Axes>"
      ]
     },
     "metadata": {
      "needs_background": "light"
     },
     "output_type": "display_data"
    }
   ],
   "source": [
    "plt.figure(figsize=(10,7))\n",
    "plt.scatter(feature_set[:,0],feature_set[:,1],c=labels,cmap=plt.cm.winter)\n",
    "labels=labels.reshape(100,1)\n",
    "plt.show()"
   ]
  },
  {
   "cell_type": "code",
   "execution_count": 56,
   "metadata": {},
   "outputs": [
    {
     "data": {
      "text/plain": [
       "(100, 2)"
      ]
     },
     "execution_count": 56,
     "metadata": {},
     "output_type": "execute_result"
    }
   ],
   "source": [
    "feature_set.shape"
   ]
  },
  {
   "cell_type": "markdown",
   "metadata": {},
   "source": [
    "# Implementing Feedforward and an Activation Function"
   ]
  },
  {
   "cell_type": "code",
   "execution_count": 57,
   "metadata": {},
   "outputs": [],
   "source": [
    "def sigmoid(x):\n",
    "    return 1/(1+np.exp(-x))    "
   ]
  },
  {
   "cell_type": "code",
   "execution_count": 58,
   "metadata": {},
   "outputs": [
    {
     "data": {
      "text/plain": [
       "2"
      ]
     },
     "execution_count": 58,
     "metadata": {},
     "output_type": "execute_result"
    }
   ],
   "source": [
    "len(feature_set[0])"
   ]
  },
  {
   "cell_type": "code",
   "execution_count": 61,
   "metadata": {},
   "outputs": [],
   "source": [
    "wh = np.random.rand(len(feature_set[0]),4) # 4 is the numer of nodes"
   ]
  },
  {
   "cell_type": "code",
   "execution_count": 62,
   "metadata": {},
   "outputs": [
    {
     "data": {
      "text/plain": [
       "array([[0.78854551, 0.05684808, 0.69699724, 0.7786954 ],\n",
       "       [0.77740756, 0.25942256, 0.37381314, 0.58759964]])"
      ]
     },
     "execution_count": 62,
     "metadata": {},
     "output_type": "execute_result"
    }
   ],
   "source": [
    "wh"
   ]
  },
  {
   "cell_type": "code",
   "execution_count": 63,
   "metadata": {},
   "outputs": [],
   "source": [
    "w0 = np.random.rand(4,1)\n",
    "lr = 0.5"
   ]
  },
  {
   "cell_type": "markdown",
   "metadata": {},
   "source": [
    "# Implementing Feedforward for Multiple Hidden Layers"
   ]
  },
  {
   "cell_type": "code",
   "execution_count": 64,
   "metadata": {},
   "outputs": [],
   "source": [
    "def sigmoid_der(x):\n",
    "    return sigmoid(x)*(1-sigmoid(x))"
   ]
  },
  {
   "cell_type": "code",
   "execution_count": 76,
   "metadata": {},
   "outputs": [
    {
     "data": {
      "text/plain": [
       "(100, 4)"
      ]
     },
     "execution_count": 76,
     "metadata": {},
     "output_type": "execute_result"
    }
   ],
   "source": [
    "zh=np.dot(feature_set,wh)\n",
    "zh.shape"
   ]
  },
  {
   "cell_type": "code",
   "execution_count": 77,
   "metadata": {},
   "outputs": [
    {
     "data": {
      "text/plain": [
       "(100, 4)"
      ]
     },
     "execution_count": 77,
     "metadata": {},
     "output_type": "execute_result"
    }
   ],
   "source": [
    "ah=sigmoid(zh) \n",
    "ah.shape"
   ]
  },
  {
   "cell_type": "code",
   "execution_count": 78,
   "metadata": {},
   "outputs": [
    {
     "data": {
      "text/plain": [
       "array([0., 0., 0., ..., 0., 0., 0.])"
      ]
     },
     "execution_count": 78,
     "metadata": {},
     "output_type": "execute_result"
    }
   ],
   "source": [
    "costPlot"
   ]
  },
  {
   "cell_type": "code",
   "execution_count": null,
   "metadata": {},
   "outputs": [],
   "source": [
    "nEpochs = 2000\n",
    "costPlot = []#np.zeros(nEpochs)\n",
    "\n",
    "for epoch in range(nEpochs):\n",
    "    # Feed forward propagation\n",
    "    zh=np.dot(feature_set,wh) # Dot product of features data set and hidden layers\n",
    "    ah=sigmoid(zh)         # sigmoid of Dot product of features data set and hidden layers\n",
    "    \n",
    "    z0=np.dot(ah,w0)       # Dot product of output weights and the sigmoid\n",
    "    a0=sigmoid(z0)\n",
    "    # Implementing Backpropagation, Cost Function and Training\n",
    "    \n",
    "    # Phase 1\n",
    "    error_out = ((1/2)*(np.power((a0-labels),2))) #loss\n",
    "    #if (epoch % 10 == 0):\n",
    "    #    print(\"Epoch\", epoch, \"cost: \", error_out)\n",
    "    costPlot[epoch] = error_out\n",
    "    #print(error_out.sum())\n",
    "    \n",
    "    dcost_da0=a0-labels     # Derivate cost equal sigmoid of Dot product of output weights and the sigmoid\n",
    "                            # of Dot product of features data set and hidden layers\n",
    "    da0_dz0=sigmoid_der(z0) # Sigmoid derivate of output\n",
    "    dz0_dw0=ah\n",
    "    dcost_w0=np.dot(dz0_dw0.T,dcost_da0*da0_dz0)\n",
    "    \n",
    "    # Phase 2\n",
    "    dcost_dz0 = dcost_da0*da0_dz0\n",
    "    dz0_dah = w0\n",
    "    dcost_dah = np.dot(dcost_dz0,dz0_dah.T)\n",
    "    \n",
    "    dah_dzh=sigmoid_der(zh)\n",
    "    dzh_dwh=feature_set\n",
    "    dcost_wh=np.dot(dzh_dwh.T,dah_dzh*dcost_dah)\n",
    "    # Update weights\n",
    "    wh -=lr*dcost_wh\n",
    "    w0 -=lr*dcost_w0\n",
    "\n",
    "plt.plot(costPlot)"
   ]
  },
  {
   "cell_type": "code",
   "execution_count": null,
   "metadata": {},
   "outputs": [],
   "source": []
  },
  {
   "cell_type": "code",
   "execution_count": 59,
   "metadata": {},
   "outputs": [
    {
     "name": "stdout",
     "output_type": "stream",
     "text": [
      "1.6387052921115264\n",
      "1.6428584792111518\n",
      "1.6386924494178414\n",
      "1.6428457518908899\n",
      "1.6386796084853321\n"
     ]
    }
   ],
   "source": [
    "for epoch in range(5):\n",
    "    # Feed forward propagation\n",
    "    zh=np.dot(feature_set,wh) # Dot product of features data set and hidden layers\n",
    "    ah=sigmoid(zh)         # sigmoid of Dot product of features data set and hidden layers\n",
    "    \n",
    "    z0=np.dot(ah,w0)       # Dot product of output weights and the sigmoid\n",
    "    a0=sigmoid(z0)\n",
    "    # Implementing Backpropagation, Cost Function and Training\n",
    "    \n",
    "    # Phase 1\n",
    "    error_out = ((1/2)*(np.power((a0-labels),2))) #loss\n",
    "    print(error_out.sum())\n",
    "    \n",
    "    dcost_da0=a0-labels     # Derivate cost equal sigmoid of Dot product of output weights and the sigmoid\n",
    "                            # of Dot product of features data set and hidden layers\n",
    "    da0_dz0=sigmoid_der(z0) # Sigmoid derivate of output\n",
    "    dz0_dw0=ah\n",
    "    dcost_w0=np.dot(dz0_dw0.T,dcost_da0*da0_dz0)\n",
    "    \n",
    "    # Phase 2\n",
    "    dcost_dz0 = dcost_da0*da0_dz0\n",
    "    dz0_dah = w0\n",
    "    dcost_dah = np.dot(dcost_dz0,dz0_dah.T)\n",
    "    \n",
    "    dah_dzh=sigmoid_der(zh)\n",
    "    dzh_dwh=feature_set\n",
    "    dcost_wh=np.dot(dzh_dwh.T,dah_dzh*dcost_dah)\n",
    "    # Update weights\n",
    "    wh -=lr*dcost_wh\n",
    "    w0 -=lr*dcost_w0\n",
    "    "
   ]
  },
  {
   "cell_type": "code",
   "execution_count": 25,
   "metadata": {},
   "outputs": [
    {
     "name": "stdout",
     "output_type": "stream",
     "text": [
      "[[-0.05348369  0.99258199]\n",
      " [ 1.81989987 -0.17559999]\n",
      " [ 0.95535658  0.05999942]\n",
      " [ 0.01558147  0.11081703]\n",
      " [ 0.96454939 -0.51276464]\n",
      " [ 1.98889686  0.30384984]\n",
      " [ 0.53549261  0.68257563]\n",
      " [ 0.92004283 -0.58127765]\n",
      " [ 0.01206304  0.29518806]\n",
      " [ 1.88346177  0.28446179]\n",
      " [-0.08064949  0.41062938]\n",
      " [ 1.93512761 -0.05897236]\n",
      " [ 1.31504601 -0.56540653]\n",
      " [ 0.85667004  0.89282872]\n",
      " [ 0.75641531  0.4715998 ]\n",
      " [-0.35242078  0.99888439]\n",
      " [ 0.20681479  1.06917351]\n",
      " [ 0.12280354  0.94090393]\n",
      " [-0.42463668  0.82968195]\n",
      " [ 0.96867858  0.51144583]\n",
      " [-0.81695256  0.4692567 ]\n",
      " [ 0.34228955 -0.19550647]\n",
      " [ 0.88254314  0.37839804]\n",
      " [ 0.75337171 -0.46959342]\n",
      " [-0.86421327  0.12595569]\n",
      " [-0.91417342 -0.08494092]\n",
      " [ 0.81989526  0.35435414]\n",
      " [ 2.06045723  0.32569418]\n",
      " [ 1.61496097 -0.20024177]\n",
      " [ 1.22516082 -0.36530949]\n",
      " [ 0.29040666 -0.11399058]\n",
      " [ 1.24895872 -0.6375463 ]\n",
      " [ 1.84706118 -0.03404951]\n",
      " [ 0.53663514 -0.38453542]\n",
      " [ 0.0242806   0.47944808]\n",
      " [-0.1641747   0.99217162]\n",
      " [ 0.3112303   0.94315139]\n",
      " [ 0.10912597  0.16554781]\n",
      " [ 0.13362754 -0.09579443]\n",
      " [ 0.98723451 -0.5415727 ]\n",
      " [ 1.17197074  0.02766154]\n",
      " [ 0.37294948 -0.23005049]\n",
      " [-0.89269787  0.30477789]\n",
      " [-0.93742913  0.37269845]\n",
      " [ 0.98705913  0.29504458]\n",
      " [ 0.69184886  1.00850764]\n",
      " [ 0.53396067  1.11503264]\n",
      " [-0.68167785  0.60664527]\n",
      " [-0.84918229  0.48611965]\n",
      " [ 0.89088845  0.26132482]\n",
      " [ 1.71571634  0.00383596]\n",
      " [-0.01921598 -0.10865242]\n",
      " [ 0.90718408  0.14907219]\n",
      " [-0.55256673  0.77301182]\n",
      " [-0.04128547  0.74551416]\n",
      " [ 0.06512093  0.38695036]\n",
      " [ 0.68371129  0.75982224]\n",
      " [-0.4895445   0.60508812]\n",
      " [ 0.13846427  1.10431002]\n",
      " [-0.03020858  0.43534298]\n",
      " [ 0.74644803  0.6502231 ]\n",
      " [-0.39394839  0.94057947]\n",
      " [ 0.3901319  -0.26931898]\n",
      " [ 0.10846456 -0.08247412]\n",
      " [ 1.09446916 -0.57242577]\n",
      " [ 1.44728591 -0.3106938 ]\n",
      " [-0.35774007  0.91159506]\n",
      " [ 1.57680711 -0.42339656]\n",
      " [ 0.66380837  0.71342556]\n",
      " [ 1.92764584 -0.29866619]\n",
      " [ 0.31216201  0.90885838]\n",
      " [-0.50636366  0.94031757]\n",
      " [-0.96076919  0.02416348]\n",
      " [ 2.00218361  0.28916572]\n",
      " [ 2.04722133  0.44494106]\n",
      " [ 0.55487819 -0.51847224]\n",
      " [ 0.30523514  1.01101416]\n",
      " [ 1.87911626  0.27626236]\n",
      " [ 0.77312163 -0.47384933]\n",
      " [ 1.2022895  -0.48846672]\n",
      " [-0.06727641  1.08143288]\n",
      " [-0.66615058  0.81540854]\n",
      " [ 1.36653472 -0.34524643]\n",
      " [-0.94617066  0.29591716]\n",
      " [-0.84380325  0.24663372]\n",
      " [ 0.29356767 -0.17762164]\n",
      " [ 0.1515395  -0.01648393]\n",
      " [ 0.72338642  0.55766146]\n",
      " [ 1.73527875 -0.16616636]\n",
      " [ 0.64619536 -0.34488517]\n",
      " [ 1.70143362 -0.27207392]\n",
      " [-0.7221082   0.70398889]\n",
      " [ 0.24891696  0.91196372]\n",
      " [ 1.47116673 -0.50647887]\n",
      " [ 0.94885057  0.56315878]\n",
      " [ 1.8875238   0.4018008 ]\n",
      " [ 0.43118222 -0.47523993]\n",
      " [ 0.56864489 -0.32780953]\n",
      " [-1.10069346  0.22628889]\n",
      " [-1.06497638  0.27145451]]\n"
     ]
    }
   ],
   "source": [
    "zh=np.dot(feature_set,wh) # Dot product of features data set and hidden layers\n",
    "ah=sigmoid(zh)         # sigmoid of Dot product of features data set and hidden layers\n",
    "print(feature_set)    "
   ]
  }
 ],
 "metadata": {
  "kernelspec": {
   "display_name": "Python 3",
   "language": "python",
   "name": "python3"
  },
  "language_info": {
   "codemirror_mode": {
    "name": "ipython",
    "version": 3
   },
   "file_extension": ".py",
   "mimetype": "text/x-python",
   "name": "python",
   "nbconvert_exporter": "python",
   "pygments_lexer": "ipython3",
   "version": "3.7.7"
  }
 },
 "nbformat": 4,
 "nbformat_minor": 4
}
